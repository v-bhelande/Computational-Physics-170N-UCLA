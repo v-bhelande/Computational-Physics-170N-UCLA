{
 "cells": [
  {
   "cell_type": "code",
   "execution_count": 1,
   "metadata": {},
   "outputs": [],
   "source": [
    "import numpy as np\n",
    "from P2_module import hermitian_eigensystem\n",
    "from P2_module import real_eigen\n",
    "\n",
    "TOLERANCE = 1e-5"
   ]
  },
  {
   "cell_type": "markdown",
   "metadata": {},
   "source": [
    "# 1. Real Matrices"
   ]
  },
  {
   "cell_type": "code",
   "execution_count": 2,
   "metadata": {},
   "outputs": [
    {
     "name": "stdout",
     "output_type": "stream",
     "text": [
      "Eigenvalues are: [-2.54138127  3.54138127]\n",
      "Eigenvectors are:\n",
      " [[-0.6463749   0.76301998]\n",
      " [ 0.76301998  0.6463749 ]]\n"
     ]
    }
   ],
   "source": [
    "# 2 x 2 Matrix\n",
    "real2 = np.array([[1., 3.],\n",
    "                 [3., 0.]])\n",
    "\n",
    "eval2, evec2 = hermitian_eigensystem(real2, TOLERANCE)\n",
    "print('Eigenvalues are:', eval2)\n",
    "print('Eigenvectors are:\\n', evec2)"
   ]
  },
  {
   "cell_type": "code",
   "execution_count": 3,
   "metadata": {},
   "outputs": [
    {
     "name": "stdout",
     "output_type": "stream",
     "text": [
      "Eigenvalues are: [-6.27588344 -2.01759282 11.29347627]\n",
      "Eigenvectors are:\n",
      " [[ 0.1981827  -0.84938852  0.48914492]\n",
      " [ 0.68606348  0.47662354  0.54967891]\n",
      " [-0.70002894  0.22664762  0.67719299]]\n"
     ]
    }
   ],
   "source": [
    "# 3 x 3 Matrix\n",
    "real3 = np.array([[1., 3., 5.],\n",
    "                 [3., 0., 7.],\n",
    "                 [5., 7., 2.]])\n",
    "\n",
    "eval3, evec3 = hermitian_eigensystem(real3, TOLERANCE)\n",
    "print('Eigenvalues are:', eval3)\n",
    "print('Eigenvectors are:\\n', evec3)"
   ]
  },
  {
   "cell_type": "code",
   "execution_count": 4,
   "metadata": {},
   "outputs": [
    {
     "name": "stdout",
     "output_type": "stream",
     "text": [
      "Eigenvalues are: [-9.37983179 -4.77760505  0.069085   18.08835185]\n",
      "Eigenvectors are:\n",
      " [[ 0.56074683  0.39716911  0.5185025  -0.50889572]\n",
      " [ 0.44706131 -0.62561587 -0.44999558 -0.454142  ]\n",
      " [-0.3003198   0.56618108 -0.59039966 -0.49058663]\n",
      " [-0.62889363 -0.36097156  0.42436703 -0.54231444]]\n"
     ]
    }
   ],
   "source": [
    "# 4 x 4 Matrix\n",
    "real4 = np.array([[1., 3., 5., 9.],\n",
    "                 [3., 0., 7., 6.],\n",
    "                 [5., 7., 2., 4.],\n",
    "                 [9., 6., 4., 1.]])\n",
    "\n",
    "eval4, evec4 = hermitian_eigensystem(real4, TOLERANCE)\n",
    "print('Eigenvalues are:', eval4)\n",
    "print('Eigenvectors are:\\n', evec4)"
   ]
  },
  {
   "cell_type": "markdown",
   "metadata": {},
   "source": [
    "# 2. Complex Matrices"
   ]
  },
  {
   "cell_type": "code",
   "execution_count": 5,
   "metadata": {},
   "outputs": [
    {
     "name": "stdout",
     "output_type": "stream",
     "text": [
      "Eigenvalues are: [-2.70156212+8.22450105e-17j  3.70156212-8.22450105e-17j]\n",
      "Eigenvectors are:\n",
      " [[-0.61621571+0.20540524j  0.76032025+0.j        ]\n",
      " [ 0.76032025+0.j          0.61621571+0.20540524j]]\n"
     ]
    },
    {
     "name": "stderr",
     "output_type": "stream",
     "text": [
      "/Users/vedang/Desktop/Spring 2024/Physics 170N/Project 2/P2_module.py:67: ComplexWarning: Casting complex values to real discards the imaginary part\n",
      "  d_U[:,k] = d[k] * U[:,k]\n"
     ]
    }
   ],
   "source": [
    "# 2 x 2 Matrix\n",
    "comp2 = np.array([[1., 3.-1j],\n",
    "                 [3.+1j, 0.]])\n",
    "\n",
    "eval2, evec2 = hermitian_eigensystem(comp2, TOLERANCE)\n",
    "print('Eigenvalues are:', eval2)\n",
    "print('Eigenvectors are:\\n', evec2)"
   ]
  },
  {
   "cell_type": "code",
   "execution_count": 6,
   "metadata": {},
   "outputs": [
    {
     "name": "stdout",
     "output_type": "stream",
     "text": [
      "Eigenvalues are: [-8.83155685-7.30530783e-16j  0.21443057+1.08266634e-15j\n",
      " 11.61712628-2.96624407e-16j]\n",
      "Eigenvectors are:\n",
      " [[-0.21527882+0.44776315j  0.69889147+0.j          0.48058424-0.18371905j]\n",
      " [-0.52901043-0.27238727j -0.35571364-0.50730043j  0.50698235-0.07096562j]\n",
      " [ 0.63175655+0.j         -0.278433  +0.22391932j  0.68790906+0.j        ]]\n"
     ]
    }
   ],
   "source": [
    "# 3 x 3 Matrix\n",
    "comp3 = np.array([[1., 3.+2j, 5.-4j],\n",
    "                 [3.-2j, 0., 7.+1j],\n",
    "                 [5.+4j, 7.-1j, 2.]])\n",
    "\n",
    "eval3, evec3 = hermitian_eigensystem(comp3, TOLERANCE)\n",
    "print('Eigenvalues are:', eval3)\n",
    "print('Eigenvectors are:\\n', evec3)"
   ]
  },
  {
   "cell_type": "code",
   "execution_count": 7,
   "metadata": {},
   "outputs": [
    {
     "name": "stdout",
     "output_type": "stream",
     "text": [
      "Eigenvalues are: [-11.4822441 +1.20975175e-15j  -4.45008545-1.12941106e-15j\n",
      "   1.66839612-4.59044785e-16j  18.26393343+1.10034905e-15j]\n",
      "Eigenvectors are:\n",
      " [[-0.49424686+0.24442305j  0.00886421-0.39424021j -0.49005125+0.20580021j\n",
      "   0.50628373-0.04057501j]\n",
      " [-0.34437824-0.3852343j  -0.48649843+0.09027458j  0.53559174+0.j\n",
      "   0.44836431+0.01669955j]\n",
      " [ 0.18851   +0.09317355j  0.71127769+0.j          0.43411925+0.14094217j\n",
      "   0.48167819-0.09761466j]\n",
      " [ 0.62028884+0.j         -0.26778341+0.14846533j -0.32731585-0.33937834j\n",
      "   0.54697214+0.j        ]]\n"
     ]
    }
   ],
   "source": [
    "# 4 x 4 Matrix\n",
    "comp4 = np.array([[1., 3.+2j, 5.+1j, 9.-3j],\n",
    "                 [3.-2j, 0., 7.+1j, 6.+3j],\n",
    "                 [5.-1j, 7.-1j, 2., 4.-1j],\n",
    "                 [9.+3j, 6.-3j, 4.+1j, 1.]])\n",
    "\n",
    "eval4, evec4 = hermitian_eigensystem(comp4, TOLERANCE)\n",
    "print('Eigenvalues are:', eval4)\n",
    "print('Eigenvectors are:\\n', evec4)"
   ]
  }
 ],
 "metadata": {
  "kernelspec": {
   "display_name": "Python 3",
   "language": "python",
   "name": "python3"
  },
  "language_info": {
   "codemirror_mode": {
    "name": "ipython",
    "version": 3
   },
   "file_extension": ".py",
   "mimetype": "text/x-python",
   "name": "python",
   "nbconvert_exporter": "python",
   "pygments_lexer": "ipython3",
   "version": "3.9.6"
  }
 },
 "nbformat": 4,
 "nbformat_minor": 2
}
